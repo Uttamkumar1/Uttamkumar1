{
 "cells": [
  {
   "cell_type": "markdown",
   "metadata": {},
   "source": [
    "<img src=\"http://cfs22.simplicdn.net/ice9/new_logo.svgz \"/>\n",
    "\n",
    "# Assignment 01: Evaluate the GDP Dataset\n",
    "\n",
    "*The comments/sections provided are your cues to perform the assignment. You don't need to limit yourself to the number of rows/cells provided. You can add additional rows in each section to add more lines of code.*\n",
    "\n",
    "*If at any point in time you need help on solving this assignment, view our demo video to understand the different steps of the code.*\n",
    "\n",
    "**Happy coding!**\n",
    "\n",
    "* * *"
   ]
  },
  {
   "cell_type": "markdown",
   "metadata": {},
   "source": [
    "#### 1: View and add the dataset"
   ]
  },
  {
   "cell_type": "code",
   "execution_count": 2,
   "metadata": {},
   "outputs": [],
   "source": [
    "#Import required library\n",
    "import numpy as np"
   ]
  },
  {
   "cell_type": "code",
   "execution_count": 3,
   "metadata": {},
   "outputs": [],
   "source": [
    "#Manually add the dataset\n",
    "Countries = np.array(['Algeria','Angola','Argentina','Australia','Austria','Bahamas','Bangladesh','Belarus','Belgium','Bhutan','Brazil','Bulgaria',\n",
    "                      'Cambodia','Cameroon','Chile','China','Colombia','Cyprus','Denmark','El Salvador','Estonia','Ethiopia','Fiji','Finland',\n",
    "                      'France','Georgia','Ghana','Grenada','Guinea','Haiti','Honduras','Hungary','India','Indonesia','Ireland','Italy',\n",
    "                      'Japan','Kenya', 'South Korea','Liberia','Malaysia','Mexico', 'Morocco','Nepal','New Zealand','Norway','Pakistan', 'Peru',\n",
    "                      'Qatar','Russia','Singapore','South Africa','Spain','Sweden','Switzerland','Thailand', 'United Arab Emirates',\n",
    "                      'United Kingdom','United States','Uruguay','Venezuela','Vietnam','Zimbabwe'])\n",
    "GDP_Countries =np.array([2255.225482,629.9553062,11601.63022,25306.82494,27266.40335,19466.99052,588.3691778,2890.345675,\n",
    "                         24733.62696,1445.760002,4803.398244,2618.876037,590.4521124,665.7982328,7122.938458,2639.54156,\n",
    "                         3362.4656,15378.16704,30860.12808,2579.115607,6525.541272,229.6769525,2242.689259,27570.4852,\n",
    "                         23016.84778,1334.646773,402.6953275,6047.200797,394.1156638,385.5793827,1414.072488,5745.981529,\n",
    "                         837.7464011,1206.991065,27715.52837,18937.24998,39578.07441,478.2194906,16684.21278,279.2204061,\n",
    "                         5345.213415,6288.25324,1908.304416,274.8728621,14646.42094,40034.85063,672.1547506,3359.517402,\n",
    "                         36152.66676,3054.727742,33529.83052,3825.093781,15428.32098,33630.24604,39170.41371,2699.123242,\n",
    "                         21058.43643,28272.40661,37691.02733,9581.05659,5671.912202,757.4009286,347.7456605])"
   ]
  },
  {
   "cell_type": "markdown",
   "metadata": {
    "collapsed": true
   },
   "source": [
    "#### 2: Find and print the name of the country with the highest GDP"
   ]
  },
  {
   "cell_type": "code",
   "execution_count": 4,
   "metadata": {},
   "outputs": [
    {
     "name": "stdout",
     "output_type": "stream",
     "text": [
      "45\n",
      "Norway\n"
     ]
    }
   ],
   "source": [
    "#Use the argmax() method to find the highest GDP\n",
    "highest_GDP = GDP_Countries.argmax()\n",
    "print(highest_GDP)\n",
    "print(Countries[highest_GDP])"
   ]
  },
  {
   "cell_type": "code",
   "execution_count": 5,
   "metadata": {},
   "outputs": [
    {
     "data": {
      "text/plain": [
       "'Norway'"
      ]
     },
     "execution_count": 5,
     "metadata": {},
     "output_type": "execute_result"
    }
   ],
   "source": [
    "#Print the name of the country\n",
    "Countries[highest_GDP]"
   ]
  },
  {
   "cell_type": "markdown",
   "metadata": {},
   "source": [
    "#### 3: Find and print the name of the country with the lowest GDP"
   ]
  },
  {
   "cell_type": "code",
   "execution_count": 6,
   "metadata": {},
   "outputs": [
    {
     "name": "stdout",
     "output_type": "stream",
     "text": [
      "21\n"
     ]
    }
   ],
   "source": [
    "#Use the argmin() method to find the lowest GDP\n",
    "Lowest_GDP = GDP_Countries.argmin()\n",
    "print(Lowest_GDP)"
   ]
  },
  {
   "cell_type": "code",
   "execution_count": 7,
   "metadata": {},
   "outputs": [
    {
     "data": {
      "text/plain": [
       "'Ethiopia'"
      ]
     },
     "execution_count": 7,
     "metadata": {},
     "output_type": "execute_result"
    }
   ],
   "source": [
    "#Print the name of the country\n",
    "Countries[Lowest_GDP]"
   ]
  },
  {
   "cell_type": "markdown",
   "metadata": {},
   "source": [
    "#### 4: Print out text ('evaluating country') and input value ('country name') iteratively"
   ]
  },
  {
   "cell_type": "code",
   "execution_count": 8,
   "metadata": {},
   "outputs": [
    {
     "name": "stdout",
     "output_type": "stream",
     "text": [
      "evaluating country Algeria\n",
      "evaluating country Angola\n",
      "evaluating country Argentina\n",
      "evaluating country Australia\n",
      "evaluating country Austria\n",
      "evaluating country Bahamas\n",
      "evaluating country Bangladesh\n",
      "evaluating country Belarus\n",
      "evaluating country Belgium\n",
      "evaluating country Bhutan\n",
      "evaluating country Brazil\n",
      "evaluating country Bulgaria\n",
      "evaluating country Cambodia\n",
      "evaluating country Cameroon\n",
      "evaluating country Chile\n",
      "evaluating country China\n",
      "evaluating country Colombia\n",
      "evaluating country Cyprus\n",
      "evaluating country Denmark\n",
      "evaluating country El Salvador\n",
      "evaluating country Estonia\n",
      "evaluating country Ethiopia\n",
      "evaluating country Fiji\n",
      "evaluating country Finland\n",
      "evaluating country France\n",
      "evaluating country Georgia\n",
      "evaluating country Ghana\n",
      "evaluating country Grenada\n",
      "evaluating country Guinea\n",
      "evaluating country Haiti\n",
      "evaluating country Honduras\n",
      "evaluating country Hungary\n",
      "evaluating country India\n",
      "evaluating country Indonesia\n",
      "evaluating country Ireland\n",
      "evaluating country Italy\n",
      "evaluating country Japan\n",
      "evaluating country Kenya\n",
      "evaluating country South Korea\n",
      "evaluating country Liberia\n",
      "evaluating country Malaysia\n",
      "evaluating country Mexico\n",
      "evaluating country Morocco\n",
      "evaluating country Nepal\n",
      "evaluating country New Zealand\n",
      "evaluating country Norway\n",
      "evaluating country Pakistan\n",
      "evaluating country Peru\n",
      "evaluating country Qatar\n",
      "evaluating country Russia\n",
      "evaluating country Singapore\n",
      "evaluating country South Africa\n",
      "evaluating country Spain\n",
      "evaluating country Sweden\n",
      "evaluating country Switzerland\n",
      "evaluating country Thailand\n",
      "evaluating country United Arab Emirates\n",
      "evaluating country United Kingdom\n",
      "evaluating country United States\n",
      "evaluating country Uruguay\n",
      "evaluating country Venezuela\n",
      "evaluating country Vietnam\n",
      "evaluating country Zimbabwe\n"
     ]
    }
   ],
   "source": [
    "#Use a for loop to print the required output\n",
    "for i in Countries:\n",
    "    print('evaluating country {}'.format(i))"
   ]
  },
  {
   "cell_type": "markdown",
   "metadata": {},
   "source": [
    "#### 5: Print out the entire list of the countries with their GDPs"
   ]
  },
  {
   "cell_type": "code",
   "execution_count": 9,
   "metadata": {},
   "outputs": [
    {
     "name": "stdout",
     "output_type": "stream",
     "text": [
      "Country Name: Algeria, and GDP of This Country is 2255.225482\n",
      "Country Name: Angola, and GDP of This Country is 629.9553062\n",
      "Country Name: Argentina, and GDP of This Country is 11601.63022\n",
      "Country Name: Australia, and GDP of This Country is 25306.82494\n",
      "Country Name: Austria, and GDP of This Country is 27266.40335\n",
      "Country Name: Bahamas, and GDP of This Country is 19466.99052\n",
      "Country Name: Bangladesh, and GDP of This Country is 588.3691778\n",
      "Country Name: Belarus, and GDP of This Country is 2890.345675\n",
      "Country Name: Belgium, and GDP of This Country is 24733.62696\n",
      "Country Name: Bhutan, and GDP of This Country is 1445.760002\n",
      "Country Name: Brazil, and GDP of This Country is 4803.398244\n",
      "Country Name: Bulgaria, and GDP of This Country is 2618.876037\n",
      "Country Name: Cambodia, and GDP of This Country is 590.4521124\n",
      "Country Name: Cameroon, and GDP of This Country is 665.7982328\n",
      "Country Name: Chile, and GDP of This Country is 7122.938458\n",
      "Country Name: China, and GDP of This Country is 2639.54156\n",
      "Country Name: Colombia, and GDP of This Country is 3362.4656\n",
      "Country Name: Cyprus, and GDP of This Country is 15378.16704\n",
      "Country Name: Denmark, and GDP of This Country is 30860.12808\n",
      "Country Name: El Salvador, and GDP of This Country is 2579.115607\n",
      "Country Name: Estonia, and GDP of This Country is 6525.541272\n",
      "Country Name: Ethiopia, and GDP of This Country is 229.6769525\n",
      "Country Name: Fiji, and GDP of This Country is 2242.689259\n",
      "Country Name: Finland, and GDP of This Country is 27570.4852\n",
      "Country Name: France, and GDP of This Country is 23016.84778\n",
      "Country Name: Georgia, and GDP of This Country is 1334.646773\n",
      "Country Name: Ghana, and GDP of This Country is 402.6953275\n",
      "Country Name: Grenada, and GDP of This Country is 6047.200797\n",
      "Country Name: Guinea, and GDP of This Country is 394.1156638\n",
      "Country Name: Haiti, and GDP of This Country is 385.5793827\n",
      "Country Name: Honduras, and GDP of This Country is 1414.072488\n",
      "Country Name: Hungary, and GDP of This Country is 5745.981529\n",
      "Country Name: India, and GDP of This Country is 837.7464011\n",
      "Country Name: Indonesia, and GDP of This Country is 1206.991065\n",
      "Country Name: Ireland, and GDP of This Country is 27715.52837\n",
      "Country Name: Italy, and GDP of This Country is 18937.24998\n",
      "Country Name: Japan, and GDP of This Country is 39578.07441\n",
      "Country Name: Kenya, and GDP of This Country is 478.2194906\n",
      "Country Name: South Korea, and GDP of This Country is 16684.21278\n",
      "Country Name: Liberia, and GDP of This Country is 279.2204061\n",
      "Country Name: Malaysia, and GDP of This Country is 5345.213415\n",
      "Country Name: Mexico, and GDP of This Country is 6288.25324\n",
      "Country Name: Morocco, and GDP of This Country is 1908.304416\n",
      "Country Name: Nepal, and GDP of This Country is 274.8728621\n",
      "Country Name: New Zealand, and GDP of This Country is 14646.42094\n",
      "Country Name: Norway, and GDP of This Country is 40034.85063\n",
      "Country Name: Pakistan, and GDP of This Country is 672.1547506\n",
      "Country Name: Peru, and GDP of This Country is 3359.517402\n",
      "Country Name: Qatar, and GDP of This Country is 36152.66676\n",
      "Country Name: Russia, and GDP of This Country is 3054.727742\n",
      "Country Name: Singapore, and GDP of This Country is 33529.83052\n",
      "Country Name: South Africa, and GDP of This Country is 3825.093781\n",
      "Country Name: Spain, and GDP of This Country is 15428.32098\n",
      "Country Name: Sweden, and GDP of This Country is 33630.24604\n",
      "Country Name: Switzerland, and GDP of This Country is 39170.41371\n",
      "Country Name: Thailand, and GDP of This Country is 2699.123242\n",
      "Country Name: United Arab Emirates, and GDP of This Country is 21058.43643\n",
      "Country Name: United Kingdom, and GDP of This Country is 28272.40661\n",
      "Country Name: United States, and GDP of This Country is 37691.02733\n",
      "Country Name: Uruguay, and GDP of This Country is 9581.05659\n",
      "Country Name: Venezuela, and GDP of This Country is 5671.912202\n",
      "Country Name: Vietnam, and GDP of This Country is 757.4009286\n",
      "Country Name: Zimbabwe, and GDP of This Country is 347.7456605\n"
     ]
    }
   ],
   "source": [
    "#Use a for loop to print the required list\n",
    "for i in range(len(Countries)):\n",
    "    Country = Countries[i]\n",
    "    GDP = GDP_Countries[i]\n",
    "    print(\"Country Name: {}, and GDP of This Country is {}\".format(Country, GDP))\n",
    "    \n",
    "    "
   ]
  },
  {
   "cell_type": "markdown",
   "metadata": {},
   "source": [
    "#### 6: Print the following:\n",
    "1. Highest GPD value\n",
    "2. Lowest GDP value\n",
    "3. Mean GDP value\n",
    "4. Standardized GDP value\n",
    "5. Sum of all the GDPs"
   ]
  },
  {
   "cell_type": "code",
   "execution_count": 10,
   "metadata": {},
   "outputs": [
    {
     "data": {
      "text/plain": [
       "40034.85063"
      ]
     },
     "execution_count": 10,
     "metadata": {},
     "output_type": "execute_result"
    }
   ],
   "source": [
    "GDP_Countries.max()"
   ]
  },
  {
   "cell_type": "code",
   "execution_count": 11,
   "metadata": {},
   "outputs": [
    {
     "data": {
      "text/plain": [
       "229.6769525"
      ]
     },
     "execution_count": 11,
     "metadata": {},
     "output_type": "execute_result"
    }
   ],
   "source": [
    "GDP_Countries.min()"
   ]
  },
  {
   "cell_type": "code",
   "execution_count": 12,
   "metadata": {},
   "outputs": [
    {
     "data": {
      "text/plain": [
       "11289.409271639683"
      ]
     },
     "execution_count": 12,
     "metadata": {},
     "output_type": "execute_result"
    }
   ],
   "source": [
    "GDP_Countries.mean()"
   ]
  },
  {
   "cell_type": "code",
   "execution_count": 13,
   "metadata": {},
   "outputs": [
    {
     "data": {
      "text/plain": [
       "12743.828910617945"
      ]
     },
     "execution_count": 13,
     "metadata": {},
     "output_type": "execute_result"
    }
   ],
   "source": [
    "GDP_Countries.std()"
   ]
  },
  {
   "cell_type": "code",
   "execution_count": 14,
   "metadata": {},
   "outputs": [
    {
     "data": {
      "text/plain": [
       "711232.7841133"
      ]
     },
     "execution_count": 14,
     "metadata": {},
     "output_type": "execute_result"
    }
   ],
   "source": [
    "GDP_Countries.sum()"
   ]
  },
  {
   "cell_type": "code",
   "execution_count": null,
   "metadata": {},
   "outputs": [],
   "source": []
  },
  {
   "cell_type": "code",
   "execution_count": null,
   "metadata": {},
   "outputs": [],
   "source": []
  }
 ],
 "metadata": {
  "kernelspec": {
   "display_name": "Python 3",
   "language": "python",
   "name": "python3"
  },
  "language_info": {
   "codemirror_mode": {
    "name": "ipython",
    "version": 3
   },
   "file_extension": ".py",
   "mimetype": "text/x-python",
   "name": "python",
   "nbconvert_exporter": "python",
   "pygments_lexer": "ipython3",
   "version": "3.8.5"
  }
 },
 "nbformat": 4,
 "nbformat_minor": 1
}
